{
 "cells": [
  {
   "cell_type": "code",
   "execution_count": 2,
   "metadata": {},
   "outputs": [
    {
     "data": {
      "text/html": [
       "<div>\n",
       "<style scoped>\n",
       "    .dataframe tbody tr th:only-of-type {\n",
       "        vertical-align: middle;\n",
       "    }\n",
       "\n",
       "    .dataframe tbody tr th {\n",
       "        vertical-align: top;\n",
       "    }\n",
       "\n",
       "    .dataframe thead th {\n",
       "        text-align: right;\n",
       "    }\n",
       "</style>\n",
       "<table border=\"1\" class=\"dataframe\">\n",
       "  <thead>\n",
       "    <tr style=\"text-align: right;\">\n",
       "      <th></th>\n",
       "      <th>Задание</th>\n",
       "      <th>Параметры</th>\n",
       "    </tr>\n",
       "  </thead>\n",
       "  <tbody>\n",
       "    <tr>\n",
       "      <th>0</th>\n",
       "      <td>1</td>\n",
       "      <td>S=QLQGaThNTMUkUIfNqqbSWtpNV</td>\n",
       "    </tr>\n",
       "    <tr>\n",
       "      <th>1</th>\n",
       "      <td>2</td>\n",
       "      <td>[$, N=55, M =5, K = 11]</td>\n",
       "    </tr>\n",
       "    <tr>\n",
       "      <th>2</th>\n",
       "      <td>3</td>\n",
       "      <td>-</td>\n",
       "    </tr>\n",
       "    <tr>\n",
       "      <th>3</th>\n",
       "      <td>4</td>\n",
       "      <td>N=2980480801</td>\n",
       "    </tr>\n",
       "    <tr>\n",
       "      <th>4</th>\n",
       "      <td>5</td>\n",
       "      <td>-</td>\n",
       "    </tr>\n",
       "  </tbody>\n",
       "</table>\n",
       "</div>"
      ],
      "text/plain": [
       "   Задание                    Параметры\n",
       "0        1  S=QLQGaThNTMUkUIfNqqbSWtpNV\n",
       "1        2      [$, N=55, M =5, K = 11]\n",
       "2        3                            -\n",
       "3        4                 N=2980480801\n",
       "4        5                            -"
      ]
     },
     "execution_count": 2,
     "metadata": {},
     "output_type": "execute_result"
    }
   ],
   "source": [
    "import random as rd\n",
    "import pandas as pd\n",
    "import math\n",
    "\n",
    "Variant = 21\n",
    "rd.seed(Variant)\n",
    "Str1 = 'qwertyuioplkjhgfdsazxcvbnmQWERTYUIOPASDFGHJKLZXCVBNM'\n",
    "N = rd.randint(20,40)\n",
    "s1 = ''\n",
    "for i in range(N):\n",
    "    s1 += Str1[rd.randint(0, len(Str1)-1)]\n",
    "D = '!@#$%&*+:;|'[rd.randint(0,10)]\n",
    "N1 = rd.randint(3,30)\n",
    "N2 = int(N1 * (N1 + 1) / 2)\n",
    "if (int(N2/N1) - math.floor(N2/N1)) == 0:\n",
    "    M = int(N2 / N1)\n",
    "    K = int(N2 / M)\n",
    "else:\n",
    "    M = int(N2 / (N1 + 1))\n",
    "    K = int(N2 / M)\n",
    "N4 = rd.randint(123432, 5645634534)\n",
    "Data  = pd.DataFrame({'Задание':[1,2,3,4,5],'Параметры':['S='+s1,[D, 'N='+str(N2), \n",
    "                    'M ='+str(M), 'K = '+str(K)],'-','N='+str(N4),'-']})\n",
    "Data"
   ]
  },
  {
   "cell_type": "markdown",
   "metadata": {},
   "source": [
    "Задание №1"
   ]
  },
  {
   "cell_type": "code",
   "execution_count": null,
   "metadata": {
    "vscode": {
     "languageId": "powershell"
    }
   },
   "outputs": [],
   "source": [
    "format ELF64\n",
    "\n",
    "public _start\n",
    "public exit\n",
    "public display_char\n",
    "\n",
    "section '.data'\n",
    "  text db 'QLQGaThNTMUkUIfNqqbSWtpNV'\n",
    "\n",
    "section '.bss' writable\n",
    "  buffer db 1\n",
    "\n",
    "section '.text' executable\n",
    "  _start:\n",
    "    mov rbx, 25       \n",
    "\n",
    "  loop_label:\n",
    "    mov dl, [text+rbx] \n",
    "    push rbx          \n",
    "    call display_char \n",
    "    pop rbx           \n",
    "    dec rbx           \n",
    "    cmp rbx, -1       \n",
    "    jne loop_label    \n",
    "\n",
    "    call exit  \n",
    "\n",
    "display_char:\n",
    "  push rdx           \n",
    "  mov eax, 1         \n",
    "  mov edi, 1         \n",
    "  mov [buffer], dl   \n",
    "  mov rsi, buffer    \n",
    "  mov edx, 1         \n",
    "  syscall            \n",
    "  pop rdx            \n",
    "  ret                \n",
    "\n",
    "exit:\n",
    "  mov eax, 60        \n",
    "  xor edi, edi       \n",
    "  syscall            "
   ]
  },
  {
   "cell_type": "code",
   "execution_count": null,
   "metadata": {
    "vscode": {
     "languageId": "powershell"
    }
   },
   "outputs": [],
   "source": [
    "@stayfatal ➜ /workspaces/System-programming/Lab_2 (main) $ fasm test.asm\n",
    "flat assembler  version 1.73.22  (16384 kilobytes memory)\n",
    "2 passes, 928 bytes.\n",
    "@stayfatal ➜ /workspaces/System-programming/Lab_2 (main) $ ld test.o\n",
    "@stayfatal ➜ /workspaces/System-programming/Lab_2 (main) $ ./a.out\n",
    "VNptWSbqqNfIUkUMTNhTaGQLQ@stayfatal"
   ]
  },
  {
   "cell_type": "markdown",
   "metadata": {},
   "source": [
    "Задание №2"
   ]
  },
  {
   "cell_type": "code",
   "execution_count": null,
   "metadata": {
    "vscode": {
     "languageId": "powershell"
    }
   },
   "outputs": [],
   "source": [
    "format ELF64\n",
    "\n",
    "public _start\n",
    "public exit\n",
    "public display_char\n",
    "\n",
    "section '.bss' writable\n",
    "  width db 5 dup ('$')\n",
    "  height db 11 dup (0xA)\n",
    "  buffer db 1\n",
    "\n",
    "section '.text' executable\n",
    "  _start:\n",
    "    xor rsi, rsi\n",
    "    .iter1:\n",
    "      xor rdi, rdi  \n",
    "      .iter2:\n",
    "        mov al, [width+rdi]\n",
    "        push rdi\n",
    "        call display_char\n",
    "        pop rdi\n",
    "        inc rdi\n",
    "        cmp rdi,5\n",
    "        jne .iter2\n",
    "\n",
    "      mov al, [height+rsi]\n",
    "      push rsi\n",
    "      call display_char\n",
    "      pop rsi\n",
    "\n",
    "      inc rsi\n",
    "      cmp rsi,11\n",
    "      jne .iter1\n",
    "    call exit\n",
    "\n",
    "display_char:\n",
    "  push rax           \n",
    "  mov [buffer], al    \n",
    "  mov eax, 4         \n",
    "  mov ebx, 1         \n",
    "  mov ecx, buffer     \n",
    "  mov edx, 1        \n",
    "  int 0x80           \n",
    "  pop rax            \n",
    "  ret\n",
    "\n",
    "exit:\n",
    "  mov eax, 1         \n",
    "  mov ebx, 0         \n",
    "  int 0x80"
   ]
  },
  {
   "cell_type": "code",
   "execution_count": null,
   "metadata": {
    "vscode": {
     "languageId": "powershell"
    }
   },
   "outputs": [],
   "source": [
    "@stayfatal ➜ /workspaces/System-programming/Lab_2 (main) $ fasm test.asm\n",
    "flat assembler  version 1.73.22  (16384 kilobytes memory)\n",
    "2 passes, 872 bytes.\n",
    "@stayfatal ➜ /workspaces/System-programming/Lab_2 (main) $ ld test.o\n",
    "@stayfatal ➜ /workspaces/System-programming/Lab_2 (main) $ ./a.out\n",
    "$$$$$\n",
    "$$$$$\n",
    "$$$$$\n",
    "$$$$$\n",
    "$$$$$\n",
    "$$$$$\n",
    "$$$$$\n",
    "$$$$$\n",
    "$$$$$\n",
    "$$$$$\n",
    "$$$$$"
   ]
  },
  {
   "cell_type": "markdown",
   "metadata": {},
   "source": [
    "Задание №3"
   ]
  },
  {
   "cell_type": "code",
   "execution_count": null,
   "metadata": {
    "vscode": {
     "languageId": "powershell"
    }
   },
   "outputs": [],
   "source": [
    "format ELF64\n",
    "\n",
    "public _start\n",
    "public exit\n",
    "public display_char\n",
    "\n",
    "section '.bss' writable\n",
    "  width db 11 dup (':')          \n",
    "  height db 11 dup (0xA)  \n",
    "  buffer db 1\n",
    "  counter dq 0                \n",
    "\n",
    "section '.text' executable\n",
    "  _start:\n",
    "    xor rsi, rsi    \n",
    "\n",
    "    .iter1:              \n",
    "      xor rdi, rdi  \n",
    "\n",
    "      mov rbx, [counter]\n",
    "      inc rbx\n",
    "      mov [counter], rbx  \n",
    "\n",
    "      .iter2:\n",
    "        mov al, [width + rdi]   \n",
    "        call display_char        \n",
    "        inc rdi                \n",
    "        cmp rdi, [counter]           \n",
    "        jne .iter2             \n",
    "\n",
    "      ; вывод новой строки\n",
    "      mov al, [height + rsi]    \n",
    "      call display_char            \n",
    "\n",
    "      inc rsi                  \n",
    "      cmp rsi, 11                \n",
    "      jne .iter1             \n",
    "    call exit                  \n",
    "\n",
    "display_char:\n",
    "  push rax\n",
    "  mov [buffer], al\n",
    "  mov eax, 4\n",
    "  mov ebx, 1\n",
    "  mov ecx, buffer\n",
    "  mov edx, 1\n",
    "  int 0x80\n",
    "  pop rax\n",
    "  ret\n",
    "\n",
    "exit:\n",
    "  mov eax, 1\n",
    "  mov ebx, 0\n",
    "  int 0x80"
   ]
  },
  {
   "cell_type": "code",
   "execution_count": null,
   "metadata": {
    "vscode": {
     "languageId": "powershell"
    }
   },
   "outputs": [],
   "source": [
    "@stayfatal ➜ /workspaces/System-programming/Lab_2 (main) $ fasm test.asm\n",
    "flat assembler  version 1.73.22  (16384 kilobytes memory)\n",
    "2 passes, 976 bytes.\n",
    "@stayfatal ➜ /workspaces/System-programming/Lab_2 (main) $ ld test.o\n",
    "@stayfatal ➜ /workspaces/System-programming/Lab_2 (main) $ ./a.out\n",
    ":\n",
    "::\n",
    ":::\n",
    "::::\n",
    ":::::\n",
    "::::::\n",
    ":::::::\n",
    "::::::::\n",
    ":::::::::\n",
    "::::::::::\n",
    ":::::::::::"
   ]
  },
  {
   "cell_type": "markdown",
   "metadata": {},
   "source": [
    "Задание №4"
   ]
  },
  {
   "cell_type": "code",
   "execution_count": null,
   "metadata": {
    "vscode": {
     "languageId": "powershell"
    }
   },
   "outputs": [],
   "source": [
    "format ELF64\n",
    "\n",
    "public _start\n",
    "public exit\n",
    "public display_char\n",
    "\n",
    "section '.bss' writable\n",
    "  num dq 2980480801    \n",
    "  sum dq 0            \n",
    "  ten dq 10                 \n",
    "  buffer db 1         \n",
    "\n",
    "section '.text' executable\n",
    "  _start:\n",
    "    mov rax, [num]      \n",
    "    xor rbx, rbx            \n",
    "\n",
    "    .sum_loop:\n",
    "      xor rdx, rdx           \n",
    "      div qword [ten]         \n",
    "      add rbx, rdx            \n",
    "      cmp rax, 0              \n",
    "      jne .sum_loop           \n",
    "\n",
    "    mov [sum], rbx       \n",
    "\n",
    "    call display_char        \n",
    "\n",
    "    mov eax, 60             \n",
    "    xor edi, edi        \n",
    "    call exit                  \n",
    "\n",
    "display_char:\n",
    "    mov rax, [sum]       \n",
    "    xor rbx, rbx            \n",
    "\n",
    "    cmp rax, 9\n",
    "    jle .single_digit       \n",
    "\n",
    "    mov rcx, 10             \n",
    "    .loop:\n",
    "        xor rdx, rdx           \n",
    "        div rcx                  \n",
    "        push rdx                \n",
    "        inc rbx                \n",
    "        test rax, rax           \n",
    "        jnz .loop                \n",
    "\n",
    "    .print_loop:\n",
    "        pop rax                 \n",
    "        add rax, '0'             \n",
    "        mov [buffer], al         \n",
    "\n",
    "        mov eax, 1               \n",
    "        mov edi, 1               \n",
    "        mov rsi, buffer           \n",
    "        mov edx, 1             \n",
    "        syscall\n",
    "\n",
    "        dec rbx                 \n",
    "        jnz .print_loop      \n",
    "\n",
    "        ret\n",
    "\n",
    "    .single_digit:\n",
    "        add rax, '0'            \n",
    "        mov [buffer], al        \n",
    "\n",
    "        mov eax, 1              \n",
    "        mov edi, 1             \n",
    "        mov rsi, buffer        \n",
    "        mov edx, 1              \n",
    "        syscall\n",
    "        ret\n",
    "\n",
    "exit:\n",
    "  mov eax, 1\n",
    "  mov ebx, 0\n",
    "  int 0x80"
   ]
  },
  {
   "cell_type": "code",
   "execution_count": null,
   "metadata": {
    "vscode": {
     "languageId": "powershell"
    }
   },
   "outputs": [],
   "source": [
    "@stayfatal ➜ /workspaces/System-programming/Lab_2 (main) $ fasm test.asm\n",
    "flat assembler  version 1.73.22  (16384 kilobytes memory)\n",
    "2 passes, 1064 bytes.\n",
    "@stayfatal ➜ /workspaces/System-programming/Lab_2 (main) $ ld test.o\n",
    "@stayfatal ➜ /workspaces/System-programming/Lab_2 (main) $ ./a.out\n",
    "40"
   ]
  },
  {
   "cell_type": "markdown",
   "metadata": {},
   "source": [
    "Задание №5"
   ]
  },
  {
   "cell_type": "code",
   "execution_count": null,
   "metadata": {
    "vscode": {
     "languageId": "powershell"
    }
   },
   "outputs": [],
   "source": [
    "# include <stdio.h>\n",
    "\n",
    "int main() {\n",
    "    long num = 5447175926;\n",
    "    \n",
    "    int sum = 0;\n",
    "\n",
    "    while (num > 0) {\n",
    "        sum += num % 10;\n",
    "        num /= 10;      \n",
    "    }\n",
    "\n",
    "    printf(\"%d\\n\", sum);\n",
    "    return 0;\n",
    "}"
   ]
  },
  {
   "cell_type": "markdown",
   "metadata": {},
   "source": [
    "Сокращенный код на C"
   ]
  },
  {
   "cell_type": "code",
   "execution_count": null,
   "metadata": {
    "vscode": {
     "languageId": "powershell"
    }
   },
   "outputs": [],
   "source": [
    "# include <stdio.h>\n",
    "\n",
    "int main() {\n",
    "    long num = 5447175926;\n",
    "    \n",
    "    int sum = 0;\n",
    "\n",
    "    for(;num>0;num/=10)sum += num % 10;\n",
    "\n",
    "    printf(\"%d\\n\", sum);\n",
    "    return 0;\n",
    "}"
   ]
  },
  {
   "cell_type": "markdown",
   "metadata": {},
   "source": [
    "Сокращенный код на ассемблере"
   ]
  },
  {
   "cell_type": "code",
   "execution_count": null,
   "metadata": {
    "vscode": {
     "languageId": "powershell"
    }
   },
   "outputs": [],
   "source": [
    "format ELF64\n",
    "\n",
    "public _start\n",
    "public exit\n",
    "public print_symb\n",
    "\n",
    "section '.bss' writable\n",
    "  num dq 2980480801   \n",
    "  sum dq 0            \n",
    "  ten dq 10                  \n",
    "  buffer db 1         \n",
    "\n",
    "section '.text' executable\n",
    "  _start:\n",
    "    mov rax, [num]      \n",
    "    xor rbx, rbx            \n",
    "    .sum_loop:\n",
    "      xor rdx, rdx           \n",
    "      div qword [ten]         \n",
    "      add rbx, rdx            \n",
    "      test rax, rax              \n",
    "      jnz .sum_loop        \n",
    "    mov [sum], rbx        \n",
    "    call print_symb         \n",
    "    mov eax, 60              \n",
    "    xor edi, edi        \n",
    "    syscall                  \n",
    "\n",
    "print_symb:\n",
    "    mov rax, [sum]       \n",
    "    mov rdi, 10             \n",
    "    xor rbx, rbx             \n",
    "    cmp rax, 0\n",
    "    je .print_zero\n",
    "    .loop:\n",
    "        xor rdx, rdx           \n",
    "        div rdi               \n",
    "        push rdx                \n",
    "        inc rbx                \n",
    "        test rax, rax           \n",
    "        jnz .loop                 \n",
    "    .print_loop:\n",
    "        pop rax                  \n",
    "        add rax, '0'             \n",
    "        mov [buffer], al         \n",
    "        mov eax, 1              \n",
    "        mov edi, 1              \n",
    "        mov rsi, buffer         \n",
    "        mov edx, 1              \n",
    "        syscall\n",
    "        dec rbx                 \n",
    "        jnz .print_loop       \n",
    "    ret\n",
    "    .print_zero:\n",
    "        mov byte [buffer], '0'\n",
    "        mov eax, 1              \n",
    "        mov edi, 1              \n",
    "        mov rsi, buffer         \n",
    "        mov edx, 1              \n",
    "        syscall\n",
    "        ret\n",
    "\n",
    "exit:\n",
    "  mov eax, 60\n",
    "  xor edi, edi\n",
    "  syscall"
   ]
  }
 ],
 "metadata": {
  "kernelspec": {
   "display_name": "Python 3",
   "language": "python",
   "name": "python3"
  },
  "language_info": {
   "codemirror_mode": {
    "name": "ipython",
    "version": 3
   },
   "file_extension": ".py",
   "mimetype": "text/x-python",
   "name": "python",
   "nbconvert_exporter": "python",
   "pygments_lexer": "ipython3",
   "version": "3.12.1"
  }
 },
 "nbformat": 4,
 "nbformat_minor": 2
}
